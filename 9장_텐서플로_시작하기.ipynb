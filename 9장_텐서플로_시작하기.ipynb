{
  "nbformat": 4,
  "nbformat_minor": 0,
  "metadata": {
    "colab": {
      "name": "9장 텐서플로 시작하기",
      "provenance": [],
      "collapsed_sections": [],
      "authorship_tag": "ABX9TyN11LibWbIVFXvjTbX2346y",
      "include_colab_link": true
    },
    "kernelspec": {
      "name": "python3",
      "display_name": "Python 3"
    }
  },
  "cells": [
    {
      "cell_type": "markdown",
      "metadata": {
        "id": "view-in-github",
        "colab_type": "text"
      },
      "source": [
        "<a href=\"https://colab.research.google.com/github/feud72/hands_on_ml/blob/master/9%EC%9E%A5_%ED%85%90%EC%84%9C%ED%94%8C%EB%A1%9C_%EC%8B%9C%EC%9E%91%ED%95%98%EA%B8%B0.ipynb\" target=\"_parent\"><img src=\"https://colab.research.google.com/assets/colab-badge.svg\" alt=\"Open In Colab\"/></a>"
      ]
    },
    {
      "cell_type": "code",
      "metadata": {
        "id": "91nmsvSUafgL",
        "colab_type": "code",
        "colab": {}
      },
      "source": [
        "# 공통 \n",
        "import numpy as np \n",
        "import os\n",
        "\n",
        "def reset_graph(seed=42): \n",
        "  tf.reset_default_graph() \n",
        "  tf.set_random_seed(seed) \n",
        "  np.random.seed(seed)\n",
        "\n",
        "# 맷플롯립 설정 \n",
        "%matplotlib inline \n",
        "import matplotlib\n",
        "import matplotlib.pyplot as plt\n",
        "plt.rcParams['axes.labelsize'] = 14\n",
        "plt.rcParams['xtick.labelsize'] = 12\n",
        "plt.rcParams['ytick.labelsize'] = 12\n",
        "\n",
        "# 한글출력 \n",
        "plt.rcParams['font.family'] = 'NanumBarunGothic' \n",
        "plt.rcParams['axes.unicode_minus'] = False\n",
        "\n",
        "%tensorflow_version 1.x"
      ],
      "execution_count": 0,
      "outputs": []
    },
    {
      "cell_type": "code",
      "metadata": {
        "id": "INEsWTcxaGV8",
        "colab_type": "code",
        "colab": {}
      },
      "source": [
        "import tensorflow as tf\n",
        "\n",
        "x = tf.Variable(3, name=\"x\")\n",
        "y = tf.Variable(4, name=\"y\")\n",
        "f = x*x*y + y + 2"
      ],
      "execution_count": 0,
      "outputs": []
    },
    {
      "cell_type": "code",
      "metadata": {
        "id": "ABRa2tlsbFQL",
        "colab_type": "code",
        "outputId": "088beede-5a82-4396-b956-a0560ffecf55",
        "colab": {
          "base_uri": "https://localhost:8080/",
          "height": 34
        }
      },
      "source": [
        "sess = tf.Session()\n",
        "sess.run(x.initializer)\n",
        "sess.run(y.initializer)\n",
        "result = sess.run(f)\n",
        "\n",
        "print(result)"
      ],
      "execution_count": 47,
      "outputs": [
        {
          "output_type": "stream",
          "text": [
            "42\n"
          ],
          "name": "stdout"
        }
      ]
    },
    {
      "cell_type": "code",
      "metadata": {
        "id": "qIyqM5VZbTR8",
        "colab_type": "code",
        "colab": {}
      },
      "source": [
        "sess.close()"
      ],
      "execution_count": 0,
      "outputs": []
    },
    {
      "cell_type": "code",
      "metadata": {
        "id": "6HXduJalbW-o",
        "colab_type": "code",
        "colab": {}
      },
      "source": [
        "with tf.Session() as sess:\n",
        "  x.initializer.run()\n",
        "  y.initializer.run()\n",
        "  result = f.eval()"
      ],
      "execution_count": 0,
      "outputs": []
    },
    {
      "cell_type": "code",
      "metadata": {
        "id": "T1SqRp45bhsl",
        "colab_type": "code",
        "outputId": "1741da8c-8a99-41ae-d638-d5552f0eba8d",
        "colab": {
          "base_uri": "https://localhost:8080/",
          "height": 34
        }
      },
      "source": [
        "result"
      ],
      "execution_count": 50,
      "outputs": [
        {
          "output_type": "execute_result",
          "data": {
            "text/plain": [
              "42"
            ]
          },
          "metadata": {
            "tags": []
          },
          "execution_count": 50
        }
      ]
    },
    {
      "cell_type": "code",
      "metadata": {
        "id": "QsTQi4dmfzNW",
        "colab_type": "code",
        "colab": {}
      },
      "source": [
        "init = tf.global_variables_initializer()"
      ],
      "execution_count": 0,
      "outputs": []
    },
    {
      "cell_type": "code",
      "metadata": {
        "id": "tjZzBpb1f3Nf",
        "colab_type": "code",
        "outputId": "4050c2ab-9fc8-43db-e455-df5500748b92",
        "colab": {
          "base_uri": "https://localhost:8080/",
          "height": 34
        }
      },
      "source": [
        "sess = tf.InteractiveSession()\n",
        "init.run()\n",
        "result = f.eval()\n",
        "print(result)"
      ],
      "execution_count": 52,
      "outputs": [
        {
          "output_type": "stream",
          "text": [
            "42\n"
          ],
          "name": "stdout"
        }
      ]
    },
    {
      "cell_type": "code",
      "metadata": {
        "id": "fEQLPThQf819",
        "colab_type": "code",
        "colab": {}
      },
      "source": [
        "sess.close()"
      ],
      "execution_count": 0,
      "outputs": []
    },
    {
      "cell_type": "code",
      "metadata": {
        "id": "TK93d6X3gFin",
        "colab_type": "code",
        "outputId": "23216f31-6fc7-4c4f-97a0-dd3c5f9d537a",
        "colab": {
          "base_uri": "https://localhost:8080/",
          "height": 34
        }
      },
      "source": [
        "reset_graph()\n",
        "\n",
        "x1 = tf.Variable(1)\n",
        "x1.graph is tf.get_default_graph()"
      ],
      "execution_count": 54,
      "outputs": [
        {
          "output_type": "execute_result",
          "data": {
            "text/plain": [
              "True"
            ]
          },
          "metadata": {
            "tags": []
          },
          "execution_count": 54
        }
      ]
    },
    {
      "cell_type": "code",
      "metadata": {
        "id": "Z5zdENl6gRI5",
        "colab_type": "code",
        "outputId": "0cb2af21-370e-438d-e788-14d144d8bb92",
        "colab": {
          "base_uri": "https://localhost:8080/",
          "height": 34
        }
      },
      "source": [
        "graph = tf.Graph()\n",
        "with graph.as_default():\n",
        "  x2 = tf.Variable(2)\n",
        "\n",
        "x2.graph is graph"
      ],
      "execution_count": 55,
      "outputs": [
        {
          "output_type": "execute_result",
          "data": {
            "text/plain": [
              "True"
            ]
          },
          "metadata": {
            "tags": []
          },
          "execution_count": 55
        }
      ]
    },
    {
      "cell_type": "code",
      "metadata": {
        "id": "OYGH6JLEgY5w",
        "colab_type": "code",
        "outputId": "8651ca69-989e-40c3-a530-bafefdb6e677",
        "colab": {
          "base_uri": "https://localhost:8080/",
          "height": 34
        }
      },
      "source": [
        "x2.graph is tf.get_default_graph()"
      ],
      "execution_count": 56,
      "outputs": [
        {
          "output_type": "execute_result",
          "data": {
            "text/plain": [
              "False"
            ]
          },
          "metadata": {
            "tags": []
          },
          "execution_count": 56
        }
      ]
    },
    {
      "cell_type": "code",
      "metadata": {
        "id": "SJHmRC-BgmhJ",
        "colab_type": "code",
        "outputId": "9f617de8-4777-4b53-8ccd-f3a5e58998b2",
        "colab": {
          "base_uri": "https://localhost:8080/",
          "height": 51
        }
      },
      "source": [
        "w = tf.constant(3)\n",
        "x = w + 2\n",
        "y = x + 5\n",
        "z = x * 3\n",
        "\n",
        "with tf.Session() as sess:\n",
        "  print(y.eval())\n",
        "  print(z.eval())"
      ],
      "execution_count": 57,
      "outputs": [
        {
          "output_type": "stream",
          "text": [
            "10\n",
            "15\n"
          ],
          "name": "stdout"
        }
      ]
    },
    {
      "cell_type": "code",
      "metadata": {
        "id": "6YmW3Vb8hLtt",
        "colab_type": "code",
        "outputId": "28483f2a-3742-43f5-9139-833b73cbb0d6",
        "colab": {
          "base_uri": "https://localhost:8080/",
          "height": 51
        }
      },
      "source": [
        "with tf.Session() as sess:\n",
        "  y_val, z_val = sess.run([y, z])\n",
        "  print(y_val)\n",
        "  print(z_val)"
      ],
      "execution_count": 58,
      "outputs": [
        {
          "output_type": "stream",
          "text": [
            "10\n",
            "15\n"
          ],
          "name": "stdout"
        }
      ]
    },
    {
      "cell_type": "code",
      "metadata": {
        "id": "2_0YRyq7hwc8",
        "colab_type": "code",
        "colab": {}
      },
      "source": [
        "import numpy as np\n",
        "from sklearn.datasets import fetch_california_housing\n",
        "\n",
        "reset_graph()\n",
        "\n",
        "housing = fetch_california_housing()\n",
        "m, n = housing.data.shape\n",
        "housing_data_plus_bias = np.c_[np.ones((m, 1)), housing.data]"
      ],
      "execution_count": 0,
      "outputs": []
    },
    {
      "cell_type": "code",
      "metadata": {
        "id": "shaEaI-1h_YB",
        "colab_type": "code",
        "colab": {}
      },
      "source": [
        "X = tf.constant(housing_data_plus_bias, dtype=tf.float32, name='X')\n",
        "y = tf.constant(housing.target.reshape(-1, 1), dtype=tf.float32, name='y')\n",
        "XT = tf.transpose(X)\n",
        "theta = tf.matmul(tf.matmul(tf.matrix_inverse(tf.matmul(XT, X)), XT), y)\n",
        "\n",
        "with tf.Session() as sess:\n",
        "  theta_value = theta.eval()"
      ],
      "execution_count": 0,
      "outputs": []
    },
    {
      "cell_type": "code",
      "metadata": {
        "id": "49q5VaxmitDd",
        "colab_type": "code",
        "outputId": "5dcdbb06-1d1f-4cd0-bd8a-906f69e3fcbd",
        "colab": {
          "base_uri": "https://localhost:8080/",
          "height": 170
        }
      },
      "source": [
        "theta_value"
      ],
      "execution_count": 61,
      "outputs": [
        {
          "output_type": "execute_result",
          "data": {
            "text/plain": [
              "array([[-3.67372932e+01],\n",
              "       [ 4.37366009e-01],\n",
              "       [ 9.47520509e-03],\n",
              "       [-1.08159676e-01],\n",
              "       [ 6.48537397e-01],\n",
              "       [-3.84734449e-06],\n",
              "       [-3.79239232e-03],\n",
              "       [-4.19136107e-01],\n",
              "       [-4.32144403e-01]], dtype=float32)"
            ]
          },
          "metadata": {
            "tags": []
          },
          "execution_count": 61
        }
      ]
    },
    {
      "cell_type": "code",
      "metadata": {
        "id": "HScO8Qegizjz",
        "colab_type": "code",
        "outputId": "0e5cdf54-4c07-4533-90fa-227e5c0a8d0e",
        "colab": {
          "base_uri": "https://localhost:8080/",
          "height": 170
        }
      },
      "source": [
        "X = housing_data_plus_bias\n",
        "y = housing.target.reshape(-1, 1)\n",
        "theta_numpy = np.linalg.inv(X.T.dot(X)).dot(X.T).dot(y)\n",
        "\n",
        "print(theta_numpy)"
      ],
      "execution_count": 62,
      "outputs": [
        {
          "output_type": "stream",
          "text": [
            "[[-3.69419202e+01]\n",
            " [ 4.36693293e-01]\n",
            " [ 9.43577803e-03]\n",
            " [-1.07322041e-01]\n",
            " [ 6.45065694e-01]\n",
            " [-3.97638942e-06]\n",
            " [-3.78654265e-03]\n",
            " [-4.21314378e-01]\n",
            " [-4.34513755e-01]]\n"
          ],
          "name": "stdout"
        }
      ]
    },
    {
      "cell_type": "code",
      "metadata": {
        "id": "XnhwmKgsjN7p",
        "colab_type": "code",
        "outputId": "cfe5cea8-9045-40ba-8441-2ce7087c2a5f",
        "colab": {
          "base_uri": "https://localhost:8080/",
          "height": 170
        }
      },
      "source": [
        "from sklearn.linear_model import LinearRegression\n",
        "lin_reg = LinearRegression()\n",
        "lin_reg.fit(housing.data, housing.target.reshape(-1, 1))\n",
        "\n",
        "print(np.r_[lin_reg.intercept_.reshape(-1, 1), lin_reg.coef_.T])"
      ],
      "execution_count": 63,
      "outputs": [
        {
          "output_type": "stream",
          "text": [
            "[[-3.69419202e+01]\n",
            " [ 4.36693293e-01]\n",
            " [ 9.43577803e-03]\n",
            " [-1.07322041e-01]\n",
            " [ 6.45065694e-01]\n",
            " [-3.97638942e-06]\n",
            " [-3.78654265e-03]\n",
            " [-4.21314378e-01]\n",
            " [-4.34513755e-01]]\n"
          ],
          "name": "stdout"
        }
      ]
    },
    {
      "cell_type": "code",
      "metadata": {
        "id": "Z4bH_IxFkyR5",
        "colab_type": "code",
        "colab": {}
      },
      "source": [
        "from sklearn.preprocessing import StandardScaler\n",
        "scaler = StandardScaler()\n",
        "scaled_housing_data = scaler.fit_transform(housing.data)\n",
        "scaled_housing_data_plus_bias = np.c_[np.ones((m, 1)), scaled_housing_data]"
      ],
      "execution_count": 0,
      "outputs": []
    },
    {
      "cell_type": "code",
      "metadata": {
        "id": "PH0zQ42ulCOs",
        "colab_type": "code",
        "outputId": "645116f5-f8b0-41b9-8df5-6fdaaaae210e",
        "colab": {
          "base_uri": "https://localhost:8080/",
          "height": 136
        }
      },
      "source": [
        "print(scaled_housing_data_plus_bias.mean(axis=0))\n",
        "print(scaled_housing_data_plus_bias.mean(axis=1))\n",
        "print(scaled_housing_data_plus_bias.mean())\n",
        "print(scaled_housing_data_plus_bias.shape)"
      ],
      "execution_count": 65,
      "outputs": [
        {
          "output_type": "stream",
          "text": [
            "[ 1.00000000e+00  6.60969987e-17  5.50808322e-18  6.60969987e-17\n",
            " -1.06030602e-16 -1.10161664e-17  3.44255201e-18 -1.07958431e-15\n",
            " -8.52651283e-15]\n",
            "[ 0.38915536  0.36424355  0.5116157  ... -0.06612179 -0.06360587\n",
            "  0.01359031]\n",
            "0.11111111111111005\n",
            "(20640, 9)\n"
          ],
          "name": "stdout"
        }
      ]
    },
    {
      "cell_type": "code",
      "metadata": {
        "id": "QtUeOUVQmIz5",
        "colab_type": "code",
        "outputId": "10bf4b26-a5b0-42d4-f25b-da0f27bb437a",
        "colab": {
          "base_uri": "https://localhost:8080/",
          "height": 187
        }
      },
      "source": [
        "reset_graph()\n",
        "\n",
        "n_epochs = 1000\n",
        "learning_rate = 0.01\n",
        "\n",
        "X = tf.constant(scaled_housing_data_plus_bias, dtype=tf.float32, name=\"X\")\n",
        "y = tf.constant(housing.target.reshape(-1, 1), dtype=tf.float32, name=\"y\")\n",
        "theta = tf.Variable(tf.random_uniform([n + 1, 1], -1.0, 1.0, seed=42), name=\"theta\")\n",
        "y_pred = tf.matmul(X, theta, name=\"predictions\")\n",
        "error = y_pred - y\n",
        "mse = tf.reduce_mean(tf.square(error), name=\"mse\")\n",
        "gradients = 2/m * tf.matmul(tf.transpose(X), error)\n",
        "training_op = tf.assign(theta, theta - learning_rate * gradients)\n",
        "\n",
        "init = tf.global_variables_initializer()\n",
        "\n",
        "with tf.Session() as sess:\n",
        "  sess.run(init)\n",
        "\n",
        "  for epoch in range(n_epochs):\n",
        "    if epoch % 100 == 0:\n",
        "      print(\"에포크\", epoch, \"MSE =\", mse.eval())\n",
        "    sess.run(training_op)\n",
        "\n",
        "  best_theta = theta.eval()"
      ],
      "execution_count": 66,
      "outputs": [
        {
          "output_type": "stream",
          "text": [
            "에포크 0 MSE = 9.161542\n",
            "에포크 100 MSE = 0.71450055\n",
            "에포크 200 MSE = 0.56670487\n",
            "에포크 300 MSE = 0.55557173\n",
            "에포크 400 MSE = 0.5488112\n",
            "에포크 500 MSE = 0.5436363\n",
            "에포크 600 MSE = 0.53962904\n",
            "에포크 700 MSE = 0.5365092\n",
            "에포크 800 MSE = 0.5340677\n",
            "에포크 900 MSE = 0.5321473\n"
          ],
          "name": "stdout"
        }
      ]
    },
    {
      "cell_type": "code",
      "metadata": {
        "id": "K8i16oR_pM81",
        "colab_type": "code",
        "colab": {}
      },
      "source": [
        "def my_func(a, b):\n",
        "  z = 0\n",
        "  for i in range(100):\n",
        "    z = a * np.cos(z + i) + z * np.sin(b - i)\n",
        "  return z"
      ],
      "execution_count": 0,
      "outputs": []
    },
    {
      "cell_type": "code",
      "metadata": {
        "id": "pVcdesJdpv0c",
        "colab_type": "code",
        "outputId": "109fbd8c-58c8-40d4-9ad7-ffeb063cf718",
        "colab": {
          "base_uri": "https://localhost:8080/",
          "height": 34
        }
      },
      "source": [
        "my_func(0.2, 0.3)"
      ],
      "execution_count": 68,
      "outputs": [
        {
          "output_type": "execute_result",
          "data": {
            "text/plain": [
              "-0.21253923284754914"
            ]
          },
          "metadata": {
            "tags": []
          },
          "execution_count": 68
        }
      ]
    },
    {
      "cell_type": "code",
      "metadata": {
        "id": "ZtiU3HALp4K8",
        "colab_type": "code",
        "colab": {}
      },
      "source": [
        "reset_graph()\n",
        "\n",
        "a = tf.Variable(0.2, name=\"a\")\n",
        "b = tf.Variable(0.3, name=\"b\")\n",
        "z = tf.constant(0.0, name=\"z0\")\n",
        "for i in range(100):\n",
        "  z = a * tf.cos(z + i) + z * tf.sin(b - i)\n",
        "\n",
        "grads = tf.gradients(z, [a, b])\n",
        "init = tf.global_variables_initializer()"
      ],
      "execution_count": 0,
      "outputs": []
    },
    {
      "cell_type": "code",
      "metadata": {
        "id": "nVVZpMQMqUDg",
        "colab_type": "code",
        "outputId": "ede0fcd4-8ec5-4c68-8d98-b639e488dc78",
        "colab": {
          "base_uri": "https://localhost:8080/",
          "height": 51
        }
      },
      "source": [
        "with tf.Session() as sess:\n",
        "  init.run()\n",
        "  print(z.eval())\n",
        "  print(sess.run(grads))"
      ],
      "execution_count": 70,
      "outputs": [
        {
          "output_type": "stream",
          "text": [
            "-0.21253741\n",
            "[-1.1388495, 0.19671395]\n"
          ],
          "name": "stdout"
        }
      ]
    },
    {
      "cell_type": "code",
      "metadata": {
        "id": "LvL7OgvsrACP",
        "colab_type": "code",
        "colab": {}
      },
      "source": [
        "reset_graph()\n",
        "\n",
        "n_epochs = 1000\n",
        "learning_rate = 0.01\n",
        "\n",
        "X = tf.constant(scaled_housing_data_plus_bias, dtype=tf.float32, name=\"X\")\n",
        "y = tf.constant(housing.target.reshape(-1, 1), dtype=tf.float32, name=\"y\")\n",
        "theta = tf.Variable(tf.random_uniform([n + 1, 1], -1.0, 1.0, seed=42), name=\"theta\")\n",
        "y_pred = tf.matmul(X, theta, name=\"predictions\")\n",
        "error = y_pred - y\n",
        "mse = tf.reduce_mean(tf.square(error), name=\"mse\")"
      ],
      "execution_count": 0,
      "outputs": []
    },
    {
      "cell_type": "code",
      "metadata": {
        "id": "dIBiBEvSrOES",
        "colab_type": "code",
        "colab": {}
      },
      "source": [
        "optimizer = tf.train.GradientDescentOptimizer(learning_rate=learning_rate)\n",
        "training_op = optimizer.minimize(mse)"
      ],
      "execution_count": 0,
      "outputs": []
    },
    {
      "cell_type": "code",
      "metadata": {
        "id": "oeYVTIZfrZJN",
        "colab_type": "code",
        "outputId": "aaff0379-f8b1-4ebf-a57d-116722907847",
        "colab": {
          "base_uri": "https://localhost:8080/",
          "height": 357
        }
      },
      "source": [
        "init = tf.global_variables_initializer()\n",
        "\n",
        "with tf.Session() as sess:\n",
        "  sess.run(init)\n",
        "\n",
        "  for epoch in range(n_epochs):\n",
        "    if epoch % 100 == 0:\n",
        "      print(\"에포크\", epoch, \"MSE = \", mse.eval())\n",
        "    sess.run(training_op)\n",
        "  \n",
        "  best_theta = theta.eval()\n",
        "\n",
        "print(\"best_theta:\")\n",
        "print(best_theta)"
      ],
      "execution_count": 73,
      "outputs": [
        {
          "output_type": "stream",
          "text": [
            "에포크 0 MSE =  9.161542\n",
            "에포크 100 MSE =  0.71450055\n",
            "에포크 200 MSE =  0.56670487\n",
            "에포크 300 MSE =  0.55557173\n",
            "에포크 400 MSE =  0.5488112\n",
            "에포크 500 MSE =  0.5436363\n",
            "에포크 600 MSE =  0.53962904\n",
            "에포크 700 MSE =  0.5365092\n",
            "에포크 800 MSE =  0.5340677\n",
            "에포크 900 MSE =  0.5321473\n",
            "best_theta:\n",
            "[[ 2.0685523 ]\n",
            " [ 0.88740265]\n",
            " [ 0.14401655]\n",
            " [-0.34770873]\n",
            " [ 0.3617836 ]\n",
            " [ 0.00393811]\n",
            " [-0.04269556]\n",
            " [-0.6614529 ]\n",
            " [-0.6375279 ]]\n"
          ],
          "name": "stdout"
        }
      ]
    },
    {
      "cell_type": "code",
      "metadata": {
        "id": "ndc2XtQb1z3G",
        "colab_type": "code",
        "colab": {
          "base_uri": "https://localhost:8080/",
          "height": 68
        },
        "outputId": "92771310-cb61-4d12-933f-01d368cbbed9"
      },
      "source": [
        "reset_graph()\n",
        "\n",
        "A = tf.placeholder(tf.float32, shape=(None, 3))\n",
        "B = A + 5\n",
        "\n",
        "with tf.Session() as sess:\n",
        "  B_val_1 = B.eval(feed_dict={A: [[1, 2, 3]]})\n",
        "  B_val_2 = B.eval(feed_dict={A: [[4, 5, 6], [7, 8,  9]]})\n",
        "\n",
        "print(B_val_1)\n",
        "\n",
        "print(B_val_2)"
      ],
      "execution_count": 75,
      "outputs": [
        {
          "output_type": "stream",
          "text": [
            "[[6. 7. 8.]]\n",
            "[[ 9. 10. 11.]\n",
            " [12. 13. 14.]]\n"
          ],
          "name": "stdout"
        }
      ]
    },
    {
      "cell_type": "code",
      "metadata": {
        "id": "GPE6SbNP2hKU",
        "colab_type": "code",
        "colab": {}
      },
      "source": [
        "reset_graph()\n",
        "\n",
        "X = tf.placeholder(tf.float32, shape=(None, n + 1), name=\"X\")\n",
        "y = tf.placeholder(tf.float32, shape=(None, 1), name=\"y\")"
      ],
      "execution_count": 0,
      "outputs": []
    },
    {
      "cell_type": "code",
      "metadata": {
        "id": "PZRO9GyM2zGX",
        "colab_type": "code",
        "colab": {}
      },
      "source": [
        "batch_size = 100\n",
        "n_batches = int(np.ceil(m / batch_size))"
      ],
      "execution_count": 0,
      "outputs": []
    },
    {
      "cell_type": "code",
      "metadata": {
        "id": "OhIaiUSC2-9C",
        "colab_type": "code",
        "colab": {}
      },
      "source": [
        "theta = tf.Variable(tf.random_uniform([n + 1, 1], -1.0, 1.0, seed=42))\n",
        "y_pred = tf.matmul(X, theta, name=\"predictions\")\n",
        "error = y_pred - y\n",
        "mse = tf.reduce_mean(tf.square(error), name=\"mse\")\n",
        "optimizer = tf.train.GradientDescentOptimizer(learning_rate=learning_rate)\n",
        "training_op = optimizer.minimize(mse)\n",
        "\n",
        "init = tf.global_variables_initializer()"
      ],
      "execution_count": 0,
      "outputs": []
    },
    {
      "cell_type": "code",
      "metadata": {
        "id": "Esd_TnwT3qu6",
        "colab_type": "code",
        "colab": {}
      },
      "source": [
        "n_epochs = 10\n",
        "batch_size = 100\n",
        "n_batches = int(np.ceil(m / batch_size))"
      ],
      "execution_count": 0,
      "outputs": []
    },
    {
      "cell_type": "code",
      "metadata": {
        "id": "NLzLtVfV3x01",
        "colab_type": "code",
        "colab": {}
      },
      "source": [
        "def fetch_batch(epoch, batch_index, batch_size):\n",
        "  np.random.seed(epoch * n_batches + batch_index)\n",
        "  indices = np.random.randint(m, size=batch_size)\n",
        "  X_batch = scaled_housing_data_plus_bias[indices]\n",
        "  y_batch = housing.target.reshape(-1, 1)[indices]\n",
        "  return X_batch, y_batch\n",
        "\n",
        "with tf.Session() as sess:\n",
        "  sess.run(init)\n",
        "\n",
        "  for epoch in range(n_epochs):\n",
        "    for batch_index in range(n_batches):\n",
        "      X_batch, y_batch = fetch_batch(epoch, batch_index, batch_size)\n",
        "      sess.run(training_op, feed_dict={X: X_batch, y: y_batch})\n",
        "\n",
        "  best_theta = theta.eval()"
      ],
      "execution_count": 0,
      "outputs": []
    },
    {
      "cell_type": "code",
      "metadata": {
        "id": "PEwmgE794tm8",
        "colab_type": "code",
        "colab": {
          "base_uri": "https://localhost:8080/",
          "height": 170
        },
        "outputId": "8743f7ab-525b-49f2-e845-04c19b08c935"
      },
      "source": [
        "best_theta"
      ],
      "execution_count": 81,
      "outputs": [
        {
          "output_type": "execute_result",
          "data": {
            "text/plain": [
              "array([[ 2.0703337 ],\n",
              "       [ 0.8637145 ],\n",
              "       [ 0.12255149],\n",
              "       [-0.31211886],\n",
              "       [ 0.38510385],\n",
              "       [ 0.00434167],\n",
              "       [-0.01232954],\n",
              "       [-0.83376896],\n",
              "       [-0.8030471 ]], dtype=float32)"
            ]
          },
          "metadata": {
            "tags": []
          },
          "execution_count": 81
        }
      ]
    },
    {
      "cell_type": "code",
      "metadata": {
        "id": "0cy9tPxw5LIx",
        "colab_type": "code",
        "colab": {}
      },
      "source": [
        "reset_graph()\n",
        "\n",
        "n_epochs = 1000\n",
        "learning_rate = 0.01\n",
        "\n",
        "X = tf.constant(scaled_housing_data_plus_bias, dtype=tf.float32, name=\"X\")\n",
        "y = tf.constant(housing.target.reshape(-1, 1), dtype=tf.float32, name=\"y\")\n",
        "theta = tf.Variable(tf.random_uniform([n + 1, 1], -1.0, 1.0, seed=42), name=\"theta\")\n",
        "y_pred = tf.matmul(X, theta, name=\"predictions\")\n",
        "error = y_pred - y\n",
        "mse = tf.reduce_mean(tf.square(error), name=\"mse\")"
      ],
      "execution_count": 0,
      "outputs": []
    },
    {
      "cell_type": "code",
      "metadata": {
        "id": "MtMjBY1Z5bfe",
        "colab_type": "code",
        "colab": {
          "base_uri": "https://localhost:8080/",
          "height": 187
        },
        "outputId": "ccc94c5c-dd1d-4f06-9b2e-13a937a70117"
      },
      "source": [
        "optimizer = tf.train.GradientDescentOptimizer(learning_rate=learning_rate)\n",
        "training_op = optimizer.minimize(mse)\n",
        "\n",
        "init = tf.global_variables_initializer()\n",
        "saver = tf.train.Saver()\n",
        "\n",
        "with tf.Session() as sess:\n",
        "  sess.run(init)\n",
        "\n",
        "  for epoch in range(n_epochs):\n",
        "    if epoch % 100 == 0:\n",
        "      print(\"에포크\", epoch, \"MSE = \", mse.eval())\n",
        "      save_path = saver.save(sess, \"/tmp/mymodel.ckpt\")\n",
        "    sess.run(training_op)\n",
        "\n",
        "  best_theta = theta.eval()\n",
        "  save_path = saver.save(sess, \"/tmp/my_model_final.ckpt\")"
      ],
      "execution_count": 85,
      "outputs": [
        {
          "output_type": "stream",
          "text": [
            "에포크 0 MSE =  9.161542\n",
            "에포크 100 MSE =  0.71450055\n",
            "에포크 200 MSE =  0.56670487\n",
            "에포크 300 MSE =  0.55557173\n",
            "에포크 400 MSE =  0.5488112\n",
            "에포크 500 MSE =  0.5436363\n",
            "에포크 600 MSE =  0.53962904\n",
            "에포크 700 MSE =  0.5365092\n",
            "에포크 800 MSE =  0.5340677\n",
            "에포크 900 MSE =  0.5321473\n"
          ],
          "name": "stdout"
        }
      ]
    },
    {
      "cell_type": "code",
      "metadata": {
        "id": "YqNxXgLg62bN",
        "colab_type": "code",
        "colab": {
          "base_uri": "https://localhost:8080/",
          "height": 170
        },
        "outputId": "e7449379-7d86-4014-ebd1-7a2fb179122f"
      },
      "source": [
        "best_theta"
      ],
      "execution_count": 86,
      "outputs": [
        {
          "output_type": "execute_result",
          "data": {
            "text/plain": [
              "array([[ 2.0685523 ],\n",
              "       [ 0.88740265],\n",
              "       [ 0.14401655],\n",
              "       [-0.34770873],\n",
              "       [ 0.3617836 ],\n",
              "       [ 0.00393811],\n",
              "       [-0.04269556],\n",
              "       [-0.6614529 ],\n",
              "       [-0.6375279 ]], dtype=float32)"
            ]
          },
          "metadata": {
            "tags": []
          },
          "execution_count": 86
        }
      ]
    },
    {
      "cell_type": "code",
      "metadata": {
        "id": "nXdhfQvU64nc",
        "colab_type": "code",
        "colab": {
          "base_uri": "https://localhost:8080/",
          "height": 34
        },
        "outputId": "41aea590-e931-4ebb-d34b-6c61efe0885a"
      },
      "source": [
        "with tf.Session() as sess:\n",
        "  saver.restore(sess, \"/tmp/my_model_final.ckpt\")\n",
        "  best_theta_restored = theta.eval()"
      ],
      "execution_count": 87,
      "outputs": [
        {
          "output_type": "stream",
          "text": [
            "INFO:tensorflow:Restoring parameters from /tmp/my_model_final.ckpt\n"
          ],
          "name": "stdout"
        }
      ]
    },
    {
      "cell_type": "code",
      "metadata": {
        "id": "0n5ICWbD7BZo",
        "colab_type": "code",
        "colab": {
          "base_uri": "https://localhost:8080/",
          "height": 34
        },
        "outputId": "0a14ed57-c4dd-46ae-8130-b86d60cd9ee7"
      },
      "source": [
        "np.allclose(best_theta, best_theta_restored)"
      ],
      "execution_count": 88,
      "outputs": [
        {
          "output_type": "execute_result",
          "data": {
            "text/plain": [
              "True"
            ]
          },
          "metadata": {
            "tags": []
          },
          "execution_count": 88
        }
      ]
    },
    {
      "cell_type": "code",
      "metadata": {
        "id": "DHCLO2gx7PXh",
        "colab_type": "code",
        "colab": {}
      },
      "source": [
        "saver = tf.train.Saver({\"weights\": theta})"
      ],
      "execution_count": 0,
      "outputs": []
    },
    {
      "cell_type": "code",
      "metadata": {
        "id": "6UcGi6oc7TfS",
        "colab_type": "code",
        "colab": {}
      },
      "source": [
        "reset_graph()\n",
        "\n",
        "saver = tf.train.import_meta_graph(\"/tmp/my_model_final.ckpt.meta\")\n",
        "theta = tf.get_default_graph().get_tensor_by_name(\"theta:0\")"
      ],
      "execution_count": 0,
      "outputs": []
    },
    {
      "cell_type": "code",
      "metadata": {
        "id": "01gOcPtW7rkX",
        "colab_type": "code",
        "colab": {
          "base_uri": "https://localhost:8080/",
          "height": 34
        },
        "outputId": "1889e484-610e-4d63-cd8d-cb870cf3a4a2"
      },
      "source": [
        "with tf.Session() as sess:\n",
        "  saver.restore(sess, \"/tmp/my_model_final.ckpt\")\n",
        "  best_theta_restored = theta.eval()"
      ],
      "execution_count": 92,
      "outputs": [
        {
          "output_type": "stream",
          "text": [
            "INFO:tensorflow:Restoring parameters from /tmp/my_model_final.ckpt\n"
          ],
          "name": "stdout"
        }
      ]
    },
    {
      "cell_type": "code",
      "metadata": {
        "id": "m7DAhWlg72T2",
        "colab_type": "code",
        "colab": {
          "base_uri": "https://localhost:8080/",
          "height": 34
        },
        "outputId": "d277ecc4-ba81-4ecf-b73d-199e4ed461f9"
      },
      "source": [
        "np.allclose(best_theta, best_theta_restored)"
      ],
      "execution_count": 93,
      "outputs": [
        {
          "output_type": "execute_result",
          "data": {
            "text/plain": [
              "True"
            ]
          },
          "metadata": {
            "tags": []
          },
          "execution_count": 93
        }
      ]
    },
    {
      "cell_type": "code",
      "metadata": {
        "id": "ay-nYPn-89qY",
        "colab_type": "code",
        "colab": {
          "base_uri": "https://localhost:8080/",
          "height": 34
        },
        "outputId": "b962acbf-f6a3-4176-8003-3cf031a18146"
      },
      "source": [
        "from tensorboardcolab import *"
      ],
      "execution_count": 97,
      "outputs": [
        {
          "output_type": "stream",
          "text": [
            "Using TensorFlow backend.\n"
          ],
          "name": "stderr"
        }
      ]
    },
    {
      "cell_type": "code",
      "metadata": {
        "id": "QltNExpT_y_Z",
        "colab_type": "code",
        "colab": {
          "base_uri": "https://localhost:8080/",
          "height": 68
        },
        "outputId": "2273e1f3-9276-4e4e-8dc4-11654f7a9639"
      },
      "source": [
        "tbc=TensorBoardColab(startup_waiting_time=30)"
      ],
      "execution_count": 99,
      "outputs": [
        {
          "output_type": "stream",
          "text": [
            "Wait for 30 seconds...\n",
            "TensorBoard link:\n",
            "https://37819613.ngrok.io\n"
          ],
          "name": "stdout"
        }
      ]
    },
    {
      "cell_type": "code",
      "metadata": {
        "id": "PHpk_8vB_9Kq",
        "colab_type": "code",
        "colab": {}
      },
      "source": [
        "train_writer = tbc.get_writer();\n",
        "train_writer.add_graph(sess.graph)"
      ],
      "execution_count": 0,
      "outputs": []
    },
    {
      "cell_type": "code",
      "metadata": {
        "id": "-D-oyabkB4xt",
        "colab_type": "code",
        "colab": {}
      },
      "source": [
        "train_writer.flush()\n",
        "tbc.close()"
      ],
      "execution_count": 0,
      "outputs": []
    }
  ]
}